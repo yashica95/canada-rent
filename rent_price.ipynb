{
 "cells": [
  {
   "cell_type": "markdown",
   "id": "88f0e184-a0da-4546-952c-2c7980bb87e2",
   "metadata": {},
   "source": [
    "## Regression Project to predict the rent price of an apartment"
   ]
  },
  {
   "cell_type": "code",
   "execution_count": null,
   "id": "e7ad040c-c69b-486b-b954-7ef126e2cc86",
   "metadata": {},
   "outputs": [],
   "source": []
  }
 ],
 "metadata": {
  "kernelspec": {
   "display_name": "Python 3 (ipykernel)",
   "language": "python",
   "name": "python3"
  },
  "language_info": {
   "codemirror_mode": {
    "name": "ipython",
    "version": 3
   },
   "file_extension": ".py",
   "mimetype": "text/x-python",
   "name": "python",
   "nbconvert_exporter": "python",
   "pygments_lexer": "ipython3",
   "version": "3.8.8"
  }
 },
 "nbformat": 4,
 "nbformat_minor": 5
}
