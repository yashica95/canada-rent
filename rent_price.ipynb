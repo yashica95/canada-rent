{
 "cells": [
  {
   "cell_type": "markdown",
   "id": "88f0e184-a0da-4546-952c-2c7980bb87e2",
   "metadata": {},
   "source": [
    "## Regression Project to predict the rent price of an apartment"
   ]
  },
  {
   "cell_type": "code",
   "execution_count": 129,
   "id": "e7ad040c-c69b-486b-b954-7ef126e2cc86",
   "metadata": {},
   "outputs": [],
   "source": [
    "import pandas as pd\n",
    "import numpy as np\n",
    "import matplotlib.pyplot as plt\n",
    "import seaborn as sns"
   ]
  },
  {
   "cell_type": "code",
   "execution_count": 87,
   "id": "277afbae-259a-4ed0-9fd0-b93e4ceb32a3",
   "metadata": {},
   "outputs": [
    {
     "data": {
      "text/html": [
       "<div>\n",
       "<style scoped>\n",
       "    .dataframe tbody tr th:only-of-type {\n",
       "        vertical-align: middle;\n",
       "    }\n",
       "\n",
       "    .dataframe tbody tr th {\n",
       "        vertical-align: top;\n",
       "    }\n",
       "\n",
       "    .dataframe thead th {\n",
       "        text-align: right;\n",
       "    }\n",
       "</style>\n",
       "<table border=\"1\" class=\"dataframe\">\n",
       "  <thead>\n",
       "    <tr style=\"text-align: right;\">\n",
       "      <th></th>\n",
       "      <th>web-scraper-order</th>\n",
       "      <th>web-scraper-start-url</th>\n",
       "      <th>product-link</th>\n",
       "      <th>product-link-href</th>\n",
       "      <th>ad-id</th>\n",
       "      <th>Images</th>\n",
       "      <th>title</th>\n",
       "      <th>location</th>\n",
       "      <th>map-link</th>\n",
       "      <th>map-link-href</th>\n",
       "      <th>...</th>\n",
       "      <th>appliances</th>\n",
       "      <th>air-conditioning</th>\n",
       "      <th>person-outdoor-space</th>\n",
       "      <th>smoking</th>\n",
       "      <th>Posted-by</th>\n",
       "      <th>Posted-on</th>\n",
       "      <th>hydro</th>\n",
       "      <th>Heat</th>\n",
       "      <th>water</th>\n",
       "      <th>amenities</th>\n",
       "    </tr>\n",
       "  </thead>\n",
       "  <tbody>\n",
       "    <tr>\n",
       "      <th>0</th>\n",
       "      <td>1655184396-4946</td>\n",
       "      <td>https://www.kijiji.ca/b-appartement-condo/vill...</td>\n",
       "      <td>51/2 for rent!</td>\n",
       "      <td>https://www.kijiji.ca/v-appartement-condo/vill...</td>\n",
       "      <td>Ad ID 1620304676</td>\n",
       "      <td>5.0</td>\n",
       "      <td>51/2 for rent!</td>\n",
       "      <td>H8R2Z6, Canada</td>\n",
       "      <td>(View Map)</td>\n",
       "      <td>https://www.kijiji.ca/v-appartement-condo/vill...</td>\n",
       "      <td>...</td>\n",
       "      <td>AppliancesNot Included</td>\n",
       "      <td>No</td>\n",
       "      <td>Personal Outdoor SpaceYardBalcony</td>\n",
       "      <td>Outdoors only</td>\n",
       "      <td>Kijiji User</td>\n",
       "      <td>7 days ago</td>\n",
       "      <td>Yard</td>\n",
       "      <td>Balcony</td>\n",
       "      <td>&lt;svg aria-label=\"Yes: Water\" class=\"icon-45982...</td>\n",
       "      <td>NaN</td>\n",
       "    </tr>\n",
       "    <tr>\n",
       "      <th>1</th>\n",
       "      <td>1655189645-6684</td>\n",
       "      <td>https://www.kijiji.ca/b-appartement-condo/vill...</td>\n",
       "      <td>1 Bedroom Apt.  (2 1/2)</td>\n",
       "      <td>https://www.kijiji.ca/v-appartement-condo/vill...</td>\n",
       "      <td>Ad ID 1621050447</td>\n",
       "      <td>4.0</td>\n",
       "      <td>1 Bedroom Apt.  (2 1/2)</td>\n",
       "      <td>5220 Queen Mary Road, Montreal, QC</td>\n",
       "      <td>(View Map)</td>\n",
       "      <td>https://www.kijiji.ca/v-appartement-condo/vill...</td>\n",
       "      <td>...</td>\n",
       "      <td>AppliancesLaundry (In Building)</td>\n",
       "      <td>No</td>\n",
       "      <td>Personal Outdoor SpaceBalcony</td>\n",
       "      <td>Outdoors only</td>\n",
       "      <td>Kijiji User</td>\n",
       "      <td>a day ago</td>\n",
       "      <td>&lt;svg aria-label=\"Yes: Hydro\" class=\"icon-45982...</td>\n",
       "      <td>&lt;svg aria-label=\"Yes: Heat\" class=\"icon-459822...</td>\n",
       "      <td>&lt;svg aria-label=\"Yes: Water\" class=\"icon-45982...</td>\n",
       "      <td>AmenitiesNot Included</td>\n",
       "    </tr>\n",
       "  </tbody>\n",
       "</table>\n",
       "<p>2 rows × 32 columns</p>\n",
       "</div>"
      ],
      "text/plain": [
       "  web-scraper-order                              web-scraper-start-url  \\\n",
       "0   1655184396-4946  https://www.kijiji.ca/b-appartement-condo/vill...   \n",
       "1   1655189645-6684  https://www.kijiji.ca/b-appartement-condo/vill...   \n",
       "\n",
       "              product-link                                  product-link-href  \\\n",
       "0           51/2 for rent!  https://www.kijiji.ca/v-appartement-condo/vill...   \n",
       "1  1 Bedroom Apt.  (2 1/2)  https://www.kijiji.ca/v-appartement-condo/vill...   \n",
       "\n",
       "              ad-id  Images                    title  \\\n",
       "0  Ad ID 1620304676     5.0           51/2 for rent!   \n",
       "1  Ad ID 1621050447     4.0  1 Bedroom Apt.  (2 1/2)   \n",
       "\n",
       "                             location    map-link  \\\n",
       "0                      H8R2Z6, Canada  (View Map)   \n",
       "1  5220 Queen Mary Road, Montreal, QC  (View Map)   \n",
       "\n",
       "                                       map-link-href  ...  \\\n",
       "0  https://www.kijiji.ca/v-appartement-condo/vill...  ...   \n",
       "1  https://www.kijiji.ca/v-appartement-condo/vill...  ...   \n",
       "\n",
       "                        appliances air-conditioning  \\\n",
       "0           AppliancesNot Included               No   \n",
       "1  AppliancesLaundry (In Building)               No   \n",
       "\n",
       "                person-outdoor-space        smoking    Posted-by   Posted-on  \\\n",
       "0  Personal Outdoor SpaceYardBalcony  Outdoors only  Kijiji User  7 days ago   \n",
       "1      Personal Outdoor SpaceBalcony  Outdoors only  Kijiji User   a day ago   \n",
       "\n",
       "                                               hydro  \\\n",
       "0                                               Yard   \n",
       "1  <svg aria-label=\"Yes: Hydro\" class=\"icon-45982...   \n",
       "\n",
       "                                                Heat  \\\n",
       "0                                            Balcony   \n",
       "1  <svg aria-label=\"Yes: Heat\" class=\"icon-459822...   \n",
       "\n",
       "                                               water              amenities  \n",
       "0  <svg aria-label=\"Yes: Water\" class=\"icon-45982...                    NaN  \n",
       "1  <svg aria-label=\"Yes: Water\" class=\"icon-45982...  AmenitiesNot Included  \n",
       "\n",
       "[2 rows x 32 columns]"
      ]
     },
     "execution_count": 87,
     "metadata": {},
     "output_type": "execute_result"
    }
   ],
   "source": [
    "data = pd.read_csv(\"data/raw.csv\")\n",
    "data.head(2)"
   ]
  },
  {
   "cell_type": "code",
   "execution_count": 88,
   "id": "5d16d67f-f7d5-4a74-9193-601d82572bcd",
   "metadata": {},
   "outputs": [
    {
     "data": {
      "text/plain": [
       "4025"
      ]
     },
     "execution_count": 88,
     "metadata": {},
     "output_type": "execute_result"
    }
   ],
   "source": [
    "#Number of houses in the dataset\n",
    "data.shape[0]"
   ]
  },
  {
   "cell_type": "code",
   "execution_count": 89,
   "id": "1d3d288f-3f72-4417-a465-bae7bb16b5da",
   "metadata": {},
   "outputs": [],
   "source": [
    "data = data.drop([\"utilities\", \"map-link\",\"web-scraper-start-url\", \"ad-id\", \"map-link-href\"], axis=1 ) "
   ]
  },
  {
   "cell_type": "code",
   "execution_count": 90,
   "id": "418797d0-f265-479c-b806-201dad0c3f2c",
   "metadata": {},
   "outputs": [
    {
     "data": {
      "text/plain": [
       "Index(['web-scraper-order', 'product-link', 'product-link-href', 'Images',\n",
       "       'title', 'location', 'type', 'bedrooms', 'bathrooms', 'price',\n",
       "       'utilities', 'wifi', 'parking', 'agreement-type', 'move-in-date',\n",
       "       'pet-friendly', 'size', 'furnished', 'appliances', 'air-conditioning',\n",
       "       'person-outdoor-space', 'smoking', 'Posted-by', 'Posted-on', 'hydro',\n",
       "       'Heat', 'water', 'amenities'],\n",
       "      dtype='object')"
      ]
     },
     "execution_count": 90,
     "metadata": {},
     "output_type": "execute_result"
    }
   ],
   "source": [
    "data.columns"
   ]
  },
  {
   "cell_type": "code",
   "execution_count": 91,
   "id": "93c877eb-2fdf-4cef-9410-0e718b0e10c1",
   "metadata": {},
   "outputs": [
    {
     "data": {
      "text/html": [
       "<div>\n",
       "<style scoped>\n",
       "    .dataframe tbody tr th:only-of-type {\n",
       "        vertical-align: middle;\n",
       "    }\n",
       "\n",
       "    .dataframe tbody tr th {\n",
       "        vertical-align: top;\n",
       "    }\n",
       "\n",
       "    .dataframe thead th {\n",
       "        text-align: right;\n",
       "    }\n",
       "</style>\n",
       "<table border=\"1\" class=\"dataframe\">\n",
       "  <thead>\n",
       "    <tr style=\"text-align: right;\">\n",
       "      <th></th>\n",
       "      <th>web-scraper-order</th>\n",
       "      <th>product-link</th>\n",
       "      <th>product-link-href</th>\n",
       "      <th>Images</th>\n",
       "      <th>title</th>\n",
       "      <th>location</th>\n",
       "      <th>type</th>\n",
       "      <th>bedrooms</th>\n",
       "      <th>bathrooms</th>\n",
       "      <th>price</th>\n",
       "      <th>...</th>\n",
       "      <th>appliances</th>\n",
       "      <th>air-conditioning</th>\n",
       "      <th>person-outdoor-space</th>\n",
       "      <th>smoking</th>\n",
       "      <th>Posted-by</th>\n",
       "      <th>Posted-on</th>\n",
       "      <th>hydro</th>\n",
       "      <th>Heat</th>\n",
       "      <th>water</th>\n",
       "      <th>amenities</th>\n",
       "    </tr>\n",
       "  </thead>\n",
       "  <tbody>\n",
       "    <tr>\n",
       "      <th>0</th>\n",
       "      <td>1655184396-4946</td>\n",
       "      <td>51/2 for rent!</td>\n",
       "      <td>https://www.kijiji.ca/v-appartement-condo/vill...</td>\n",
       "      <td>5.0</td>\n",
       "      <td>51/2 for rent!</td>\n",
       "      <td>H8R2Z6, Canada</td>\n",
       "      <td>Duplex/Triplex</td>\n",
       "      <td>Bedrooms: 3</td>\n",
       "      <td>Bathrooms: 1</td>\n",
       "      <td>$1,500</td>\n",
       "      <td>...</td>\n",
       "      <td>AppliancesNot Included</td>\n",
       "      <td>No</td>\n",
       "      <td>Personal Outdoor SpaceYardBalcony</td>\n",
       "      <td>Outdoors only</td>\n",
       "      <td>Kijiji User</td>\n",
       "      <td>7 days ago</td>\n",
       "      <td>Yard</td>\n",
       "      <td>Balcony</td>\n",
       "      <td>&lt;svg aria-label=\"Yes: Water\" class=\"icon-45982...</td>\n",
       "      <td>NaN</td>\n",
       "    </tr>\n",
       "    <tr>\n",
       "      <th>1</th>\n",
       "      <td>1655189645-6684</td>\n",
       "      <td>1 Bedroom Apt.  (2 1/2)</td>\n",
       "      <td>https://www.kijiji.ca/v-appartement-condo/vill...</td>\n",
       "      <td>4.0</td>\n",
       "      <td>1 Bedroom Apt.  (2 1/2)</td>\n",
       "      <td>5220 Queen Mary Road, Montreal, QC</td>\n",
       "      <td>Apartment</td>\n",
       "      <td>Bedrooms: 1</td>\n",
       "      <td>Bathrooms: 1</td>\n",
       "      <td>$900</td>\n",
       "      <td>...</td>\n",
       "      <td>AppliancesLaundry (In Building)</td>\n",
       "      <td>No</td>\n",
       "      <td>Personal Outdoor SpaceBalcony</td>\n",
       "      <td>Outdoors only</td>\n",
       "      <td>Kijiji User</td>\n",
       "      <td>a day ago</td>\n",
       "      <td>&lt;svg aria-label=\"Yes: Hydro\" class=\"icon-45982...</td>\n",
       "      <td>&lt;svg aria-label=\"Yes: Heat\" class=\"icon-459822...</td>\n",
       "      <td>&lt;svg aria-label=\"Yes: Water\" class=\"icon-45982...</td>\n",
       "      <td>AmenitiesNot Included</td>\n",
       "    </tr>\n",
       "  </tbody>\n",
       "</table>\n",
       "<p>2 rows × 28 columns</p>\n",
       "</div>"
      ],
      "text/plain": [
       "  web-scraper-order             product-link  \\\n",
       "0   1655184396-4946           51/2 for rent!   \n",
       "1   1655189645-6684  1 Bedroom Apt.  (2 1/2)   \n",
       "\n",
       "                                   product-link-href  Images  \\\n",
       "0  https://www.kijiji.ca/v-appartement-condo/vill...     5.0   \n",
       "1  https://www.kijiji.ca/v-appartement-condo/vill...     4.0   \n",
       "\n",
       "                     title                            location  \\\n",
       "0           51/2 for rent!                      H8R2Z6, Canada   \n",
       "1  1 Bedroom Apt.  (2 1/2)  5220 Queen Mary Road, Montreal, QC   \n",
       "\n",
       "             type     bedrooms     bathrooms    price  ...  \\\n",
       "0  Duplex/Triplex  Bedrooms: 3  Bathrooms: 1  $1,500   ...   \n",
       "1       Apartment  Bedrooms: 1  Bathrooms: 1    $900   ...   \n",
       "\n",
       "                        appliances air-conditioning  \\\n",
       "0           AppliancesNot Included               No   \n",
       "1  AppliancesLaundry (In Building)               No   \n",
       "\n",
       "                person-outdoor-space        smoking    Posted-by   Posted-on  \\\n",
       "0  Personal Outdoor SpaceYardBalcony  Outdoors only  Kijiji User  7 days ago   \n",
       "1      Personal Outdoor SpaceBalcony  Outdoors only  Kijiji User   a day ago   \n",
       "\n",
       "                                               hydro  \\\n",
       "0                                               Yard   \n",
       "1  <svg aria-label=\"Yes: Hydro\" class=\"icon-45982...   \n",
       "\n",
       "                                                Heat  \\\n",
       "0                                            Balcony   \n",
       "1  <svg aria-label=\"Yes: Heat\" class=\"icon-459822...   \n",
       "\n",
       "                                               water              amenities  \n",
       "0  <svg aria-label=\"Yes: Water\" class=\"icon-45982...                    NaN  \n",
       "1  <svg aria-label=\"Yes: Water\" class=\"icon-45982...  AmenitiesNot Included  \n",
       "\n",
       "[2 rows x 28 columns]"
      ]
     },
     "execution_count": 91,
     "metadata": {},
     "output_type": "execute_result"
    }
   ],
   "source": [
    "data.head(2)"
   ]
  },
  {
   "cell_type": "code",
   "execution_count": 92,
   "id": "31c90565-90b4-42d6-bcd4-e1e9936bab2d",
   "metadata": {},
   "outputs": [
    {
     "data": {
      "text/plain": [
       "Apartment         2936\n",
       "Condo              642\n",
       "Duplex/Triplex     290\n",
       "House               58\n",
       "Basement            53\n",
       "Townhouse           21\n",
       "Not Available       14\n",
       "apartment            6\n",
       "Name: type, dtype: int64"
      ]
     },
     "execution_count": 92,
     "metadata": {},
     "output_type": "execute_result"
    }
   ],
   "source": [
    "data.type.value_counts()"
   ]
  },
  {
   "cell_type": "code",
   "execution_count": 93,
   "id": "f9785c7e-c94b-4718-93db-7bc9f3e8e7b4",
   "metadata": {},
   "outputs": [
    {
     "data": {
      "text/plain": [
       "Apartment         2942\n",
       "Condo              642\n",
       "Duplex/Triplex     290\n",
       "House               58\n",
       "Basement            53\n",
       "Townhouse           21\n",
       "Name: type, dtype: int64"
      ]
     },
     "execution_count": 93,
     "metadata": {},
     "output_type": "execute_result"
    }
   ],
   "source": [
    "#fix apartment and Apartment. Drop Not Available \n",
    "def rental_type(x):\n",
    "    if x==\"apartment\":\n",
    "        return \"Apartment\"\n",
    "    elif x==\"Not Available\":\n",
    "        return np.nan\n",
    "    else:\n",
    "        return x\n",
    "    \n",
    "data.type = data.type.apply(lambda x: rental_type(x))\n",
    "data.type.value_counts()"
   ]
  },
  {
   "cell_type": "markdown",
   "id": "13168014-4c2d-4fe8-aa25-a94a7dedced4",
   "metadata": {},
   "source": [
    "## Bedrooms column"
   ]
  },
  {
   "cell_type": "code",
   "execution_count": 94,
   "id": "cfcc684b-f21b-46ed-b131-8198b2af4f7b",
   "metadata": {},
   "outputs": [
    {
     "data": {
      "text/plain": [
       "False    4020\n",
       "True        5\n",
       "Name: bedrooms, dtype: int64"
      ]
     },
     "execution_count": 94,
     "metadata": {},
     "output_type": "execute_result"
    }
   ],
   "source": [
    "data['bedrooms'].isna().value_counts()"
   ]
  },
  {
   "cell_type": "code",
   "execution_count": 103,
   "id": "42b0e390-5888-4d99-9e46-4465556460bd",
   "metadata": {},
   "outputs": [],
   "source": [
    "data = data[data['bedrooms'].notna()]"
   ]
  },
  {
   "cell_type": "code",
   "execution_count": 105,
   "id": "b166cf84-1ce7-43e5-b2f0-2f6e19f2f99d",
   "metadata": {},
   "outputs": [
    {
     "data": {
      "text/plain": [
       "Bedrooms: 1                  1238\n",
       "Bedrooms: 2                  1227\n",
       "Bedrooms: 3                   560\n",
       "Bedrooms: Bachelor/Studio     408\n",
       "Bedrooms: 1 + Den             137\n",
       "Bedrooms: 2 + Den             130\n",
       "Bedrooms: 4                   116\n",
       "Bedrooms: 3 + Den              96\n",
       "Bedrooms: 5+                   81\n",
       "Bedrooms: 4 + Den              27\n",
       "Name: bedrooms, dtype: int64"
      ]
     },
     "execution_count": 105,
     "metadata": {},
     "output_type": "execute_result"
    }
   ],
   "source": [
    "data.bedrooms.value_counts()"
   ]
  },
  {
   "cell_type": "code",
   "execution_count": 108,
   "id": "d1622904-b486-4979-9282-4e0080e72145",
   "metadata": {},
   "outputs": [],
   "source": [
    "def bedroom_count(x):\n",
    "        x = str(x).split(\": \")[1]\n",
    "        if \"Den\" in x:\n",
    "            return int(x.split(\" + \")[0]) + 0.5 \n",
    "        elif x==\"5+\":\n",
    "            return 5\n",
    "        elif x==\"Bachelor/Studio\":\n",
    "            return 0\n",
    "        else:\n",
    "            return int(x)\n",
    "        \n",
    "        \n",
    "data['bedrooms'] = data['bedrooms'].apply(lambda x: bedroom_count(x))"
   ]
  },
  {
   "cell_type": "code",
   "execution_count": 130,
   "id": "bbee2044-d146-452b-9396-c710385c13f5",
   "metadata": {},
   "outputs": [
    {
     "data": {
      "text/plain": [
       "<AxesSubplot:xlabel='bedrooms', ylabel='Count'>"
      ]
     },
     "execution_count": 130,
     "metadata": {},
     "output_type": "execute_result"
    },
    {
     "data": {
      "image/png": "[encoded data removed]",
      "text/plain": [
       "<Figure size 432x288 with 1 Axes>"
      ]
     },
     "metadata": {
      "needs_background": "light"
     },
     "output_type": "display_data"
    }
   ],
   "source": [
    "sns.histplot(data=data.bedrooms)"
   ]
  },
  {
   "cell_type": "markdown",
   "id": "6279e712-2d95-4983-9cf3-86729a7fa331",
   "metadata": {},
   "source": [
    "## Bathroom Column"
   ]
  },
  {
   "cell_type": "code",
   "execution_count": 110,
   "id": "7d25c9c2-6881-4fb4-8bc2-6fc074bdf59a",
   "metadata": {},
   "outputs": [
    {
     "data": {
      "text/plain": [
       "Bathrooms: 1      3503\n",
       "Bathrooms: 2       303\n",
       "Bathrooms: 1.5     154\n",
       "Bathrooms: 2.5      32\n",
       "Bathrooms: 3        12\n",
       "Bathrooms: 3.5       9\n",
       "Bathrooms: 4.5       5\n",
       "Bathrooms: 5.5       1\n",
       "Bathrooms: 4         1\n",
       "Name: bathrooms, dtype: int64"
      ]
     },
     "execution_count": 110,
     "metadata": {},
     "output_type": "execute_result"
    }
   ],
   "source": [
    "data.bathrooms.value_counts()"
   ]
  },
  {
   "cell_type": "code",
   "execution_count": null,
   "id": "0ca83f4b-6578-49ad-92ba-2d026f2b6960",
   "metadata": {},
   "outputs": [],
   "source": [
    "def bathroom_count(x):\n",
    "        x = str(x).split(\": \")[1]\n",
    "        return float(x)\n",
    "        \n",
    "        \n",
    "data['bathrooms'] = data['bathrooms'].apply(lambda x: bathroom_count(x))"
   ]
  },
  {
   "cell_type": "code",
   "execution_count": 131,
   "id": "d0ec331d-93d8-4a6c-9cce-5eaba188e34a",
   "metadata": {},
   "outputs": [
    {
     "data": {
      "text/plain": [
       "<AxesSubplot:xlabel='bathrooms', ylabel='Count'>"
      ]
     },
     "execution_count": 131,
     "metadata": {},
     "output_type": "execute_result"
    },
    {
     "data": {
      "image/png": "[encoded data removed]",
      "text/plain": [
       "<Figure size 432x288 with 1 Axes>"
      ]
     },
     "metadata": {
      "needs_background": "light"
     },
     "output_type": "display_data"
    }
   ],
   "source": [
    "sns.histplot(data=data.bathrooms)"
   ]
  },
  {
   "cell_type": "markdown",
   "id": "f57a2770-d916-4c82-b64a-f8b032da5942",
   "metadata": {},
   "source": [
    "## Price Columns"
   ]
  },
  {
   "cell_type": "code",
   "execution_count": 118,
   "id": "5250cbd4-2c65-4a55-bed6-1d9f06c7f07c",
   "metadata": {},
   "outputs": [
    {
     "data": {
      "text/plain": [
       "False    4020\n",
       "Name: price, dtype: int64"
      ]
     },
     "execution_count": 118,
     "metadata": {},
     "output_type": "execute_result"
    }
   ],
   "source": [
    "data.price.isna().value_counts()"
   ]
  },
  {
   "cell_type": "code",
   "execution_count": 124,
   "id": "44c03f95-4a2e-4739-a375-d5d4c999fc8d",
   "metadata": {},
   "outputs": [],
   "source": [
    "data_test = data[data['price'] == \"Please Contact\"]\n",
    "data = data[data['price'] != \"Please Contact\"]"
   ]
  },
  {
   "cell_type": "code",
   "execution_count": 125,
   "id": "93cafb6e-76a0-4a5b-87b4-059d35e9d1b5",
   "metadata": {},
   "outputs": [
    {
     "name": "stderr",
     "output_type": "stream",
     "text": [
      "/var/folders/fr/193n21xx2tv_jg6bzv_n_p880000gp/T/ipykernel_95603/2124274251.py:9: SettingWithCopyWarning: \n",
      "A value is trying to be set on a copy of a slice from a DataFrame.\n",
      "Try using .loc[row_indexer,col_indexer] = value instead\n",
      "\n",
      "See the caveats in the documentation: https://pandas.pydata.org/pandas-docs/stable/user_guide/indexing.html#returning-a-view-versus-a-copy\n",
      "  data['price'] = data['price'].apply(lambda x: price(x))\n"
     ]
    }
   ],
   "source": [
    "def price(x):\n",
    "        x = x.split(\"$\")[1]\n",
    "        x = x.strip()\n",
    "        x = x.replace(\",\",\"\")\n",
    "    return float(x)\n",
    "data['price'] = data['price'].apply(lambda x: price(x))"
   ]
  },
  {
   "cell_type": "code",
   "execution_count": 136,
   "id": "10b3aca9-18cf-472e-bdae-84b55f4ed24c",
   "metadata": {},
   "outputs": [
    {
     "data": {
      "text/plain": [
       "<AxesSubplot:>"
      ]
     },
     "execution_count": 136,
     "metadata": {},
     "output_type": "execute_result"
    },
    {
     "data": {
      "image/png": "[encoded data removed]",
      "text/plain": [
       "<Figure size 432x288 with 1 Axes>"
      ]
     },
     "metadata": {
      "needs_background": "light"
     },
     "output_type": "display_data"
    }
   ],
   "source": [
    "sns.boxplot(data=data.price)"
   ]
  },
  {
   "cell_type": "code",
   "execution_count": 134,
   "id": "77cc77ef-9c53-4375-a697-1b7c0a13388f",
   "metadata": {},
   "outputs": [
    {
     "data": {
      "text/plain": [
       "count      3899.000000\n",
       "mean       1685.728907\n",
       "std       12445.611591\n",
       "min           1.000000\n",
       "25%        1100.000000\n",
       "50%        1400.000000\n",
       "75%        1750.000000\n",
       "max      777777.000000\n",
       "Name: price, dtype: float64"
      ]
     },
     "execution_count": 134,
     "metadata": {},
     "output_type": "execute_result"
    }
   ],
   "source": [
    "## outliers exist \n",
    "data.price.describe()"
   ]
  },
  {
   "cell_type": "code",
   "execution_count": 135,
   "id": "87483f91-1ee1-4899-bfe4-bd160014ed00",
   "metadata": {},
   "outputs": [
    {
     "data": {
      "text/plain": [
       "count    3892.000000\n",
       "mean     1488.879499\n",
       "std       575.542285\n",
       "min       333.000000\n",
       "25%      1100.000000\n",
       "50%      1400.000000\n",
       "75%      1750.000000\n",
       "max      8500.000000\n",
       "Name: price, dtype: float64"
      ]
     },
     "execution_count": 135,
     "metadata": {},
     "output_type": "execute_result"
    }
   ],
   "source": [
    "# some of the apartments are listed as 1 and some as listed as a very high value \n",
    "# --- bad practise done by listers to get attention \n",
    "data = data[(data['price'] > 100 ) & ( data['price'] < 10000)]\n",
    "data.price.describe()"
   ]
  },
  {
   "cell_type": "markdown",
   "id": "51dd27eb-8c56-4692-87ed-6577bea92da2",
   "metadata": {},
   "source": [
    "## Wifi"
   ]
  },
  {
   "cell_type": "code",
   "execution_count": 142,
   "id": "3460e727-9801-4806-9c88-24dd21d85a1e",
   "metadata": {},
   "outputs": [],
   "source": [
    "data.wifi.value_counts()\n",
    "#data['wifi_available'] = data['wifi'].apply(lambda x: 0 if x==\"Not Included\" else 1)"
   ]
  },
  {
   "cell_type": "code",
   "execution_count": 146,
   "id": "d9d14eef-d447-4c10-a8bf-2406aec304a2",
   "metadata": {},
   "outputs": [],
   "source": [
    "data['wifi_internet'] = data['wifi'].apply(lambda x: 0 if \"Internet\" not in x else 1)"
   ]
  },
  {
   "cell_type": "code",
   "execution_count": 148,
   "id": "2775d6cb-361a-4613-962a-7a1b693eff15",
   "metadata": {},
   "outputs": [],
   "source": [
    "data['wifi_cable'] = data['wifi'].apply(lambda x: 0 if \"Cable\" not in x else 1)"
   ]
  },
  {
   "cell_type": "code",
   "execution_count": 150,
   "id": "16c23d1c-509c-48ad-9fde-3034658f8003",
   "metadata": {},
   "outputs": [],
   "source": [
    "data.drop(['wifi_available'], axis=1, inplace=True)"
   ]
  },
  {
   "cell_type": "code",
   "execution_count": 151,
   "id": "e8c3653d-aa03-43bd-970b-496c7f9067cb",
   "metadata": {},
   "outputs": [
    {
     "data": {
      "text/plain": [
       "Not Included          3358\n",
       "Internet               406\n",
       "Cable / TVInternet     104\n",
       "Cable / TV              24\n",
       "Name: wifi, dtype: int64"
      ]
     },
     "execution_count": 151,
     "metadata": {},
     "output_type": "execute_result"
    }
   ],
   "source": [
    "data.wifi.value_counts()"
   ]
  },
  {
   "cell_type": "markdown",
   "id": "8360d36f-3763-412b-b593-ae69cec7dbbd",
   "metadata": {},
   "source": [
    "## Parking"
   ]
  },
  {
   "cell_type": "code",
   "execution_count": 152,
   "id": "2ff40d8f-8197-44e7-a4f5-9b4ac5d11075",
   "metadata": {},
   "outputs": [
    {
     "data": {
      "text/plain": [
       "0                3124\n",
       "1                 619\n",
       "2                  82\n",
       "3+                 51\n",
       "Not Available      16\n",
       "Name: parking, dtype: int64"
      ]
     },
     "execution_count": 152,
     "metadata": {},
     "output_type": "execute_result"
    }
   ],
   "source": [
    "data.parking.value_counts()"
   ]
  },
  {
   "cell_type": "code",
   "execution_count": 153,
   "id": "4f302873-114c-4bac-a6d4-2e0cf1c81b7a",
   "metadata": {},
   "outputs": [],
   "source": [
    "def parking(x):\n",
    "    if x==\"Not Available\":\n",
    "        return 0 \n",
    "    elif x ==\"3+\":\n",
    "        return 3 \n",
    "    else:\n",
    "        return int(x)"
   ]
  },
  {
   "cell_type": "code",
   "execution_count": 154,
   "id": "d1496488-5cb4-4db3-840a-83c70eaad639",
   "metadata": {},
   "outputs": [],
   "source": [
    "data['parking'] = data['parking'].apply(lambda x: parking(x))"
   ]
  },
  {
   "cell_type": "code",
   "execution_count": 155,
   "id": "1af4a0af-4941-4e7a-8cea-be4e5f25e070",
   "metadata": {},
   "outputs": [
    {
     "data": {
      "text/plain": [
       "<AxesSubplot:xlabel='parking', ylabel='Count'>"
      ]
     },
     "execution_count": 155,
     "metadata": {},
     "output_type": "execute_result"
    },
    {
     "data": {
      "image/png": "[encoded data removed]",
      "text/plain": [
       "<Figure size 432x288 with 1 Axes>"
      ]
     },
     "metadata": {
      "needs_background": "light"
     },
     "output_type": "display_data"
    }
   ],
   "source": [
    "sns.histplot(data=data['parking'])"
   ]
  },
  {
   "cell_type": "markdown",
   "id": "ff99756b-f997-40ab-9d27-14177413611f",
   "metadata": {},
   "source": [
    "## Agreement type"
   ]
  },
  {
   "cell_type": "code",
   "execution_count": 156,
   "id": "5e7f6f05-0570-4188-b016-bbb8457bc48e",
   "metadata": {},
   "outputs": [
    {
     "data": {
      "text/plain": [
       "1 Year            3735\n",
       "Month-to-month     130\n",
       "Not Available       27\n",
       "Name: agreement-type, dtype: int64"
      ]
     },
     "execution_count": 156,
     "metadata": {},
     "output_type": "execute_result"
    }
   ],
   "source": [
    "data['agreement-type'].value_counts()"
   ]
  },
  {
   "cell_type": "code",
   "execution_count": 157,
   "id": "87dcae7f-58b7-49df-a2e7-d2ca17011087",
   "metadata": {},
   "outputs": [],
   "source": [
    "## Probably not a good idea to use it since 95% of the columns have same value"
   ]
  },
  {
   "cell_type": "code",
   "execution_count": 158,
   "id": "680938d7-6809-4e85-9c1e-9cc7c7193979",
   "metadata": {},
   "outputs": [],
   "source": [
    "data.drop('agreement-type', axis=1, inplace=True)"
   ]
  },
  {
   "cell_type": "markdown",
   "id": "6d26f9db-d3ca-462a-b9d6-0a85903116de",
   "metadata": {},
   "source": [
    "## Pet Friendliness"
   ]
  },
  {
   "cell_type": "code",
   "execution_count": 160,
   "id": "6f7b8e89-0484-4152-9c52-afe017770494",
   "metadata": {},
   "outputs": [
    {
     "data": {
      "text/plain": [
       "No               14\n",
       "Yes               8\n",
       "Limited           4\n",
       "Not Available     1\n",
       "Name: pet-friendly, dtype: int64"
      ]
     },
     "execution_count": 160,
     "metadata": {},
     "output_type": "execute_result"
    }
   ],
   "source": [
    "data['pet-friendly'].value_counts()"
   ]
  },
  {
   "cell_type": "code",
   "execution_count": 163,
   "id": "6cef3c5c-9c77-4385-874e-5cb7762b3f14",
   "metadata": {},
   "outputs": [],
   "source": [
    "## most rows have no information about being pet friendly but the ones with yes \n",
    "## are still important to retain the info \n",
    "data['pet-friendly'].fillna(\"Not Available\", inplace=True)\n",
    "data['pet_yes'] = data['pet-friendly'].apply(lambda x: 1 if \"Yes\" in x else 0)\n",
    "data['pet_limited'] = data['pet-friendly'].apply(lambda x: 1 if \"Limited\" in x else 0)"
   ]
  },
  {
   "cell_type": "code",
   "execution_count": 166,
   "id": "57facbeb-a49e-4fcd-86c1-db2db4bd4d24",
   "metadata": {},
   "outputs": [],
   "source": [
    "data.drop(['pet-friendly'], axis=1, inplace=True)"
   ]
  },
  {
   "cell_type": "markdown",
   "id": "b2c978c7-97de-458c-8bcb-1b499992df78",
   "metadata": {},
   "source": [
    "## Size ( prob one important feature)"
   ]
  },
  {
   "cell_type": "code",
   "execution_count": 178,
   "id": "b2f8be81-89b6-4fba-9a24-31460f8372e4",
   "metadata": {},
   "outputs": [
    {
     "data": {
      "text/plain": [
       "count     3892.000000\n",
       "mean       758.369219\n",
       "std       1143.745420\n",
       "min          0.000000\n",
       "25%        409.750000\n",
       "50%        725.000000\n",
       "75%       1000.000000\n",
       "max      50000.000000\n",
       "Name: size, dtype: float64"
      ]
     },
     "execution_count": 178,
     "metadata": {},
     "output_type": "execute_result"
    }
   ],
   "source": [
    "def size(x):\n",
    "    if x==\"Not Available\":\n",
    "        return 0 \n",
    "    else:\n",
    "        return int(x.replace(\",\" , \"\"))\n",
    "\n",
    "\n",
    "data['size'] = data['size'].apply(lambda x: size(x))\n",
    "data['size'].describe()"
   ]
  },
  {
   "cell_type": "code",
   "execution_count": 179,
   "id": "f0d4d00c-2f58-4ac5-aaaf-a61404fdcdb3",
   "metadata": {},
   "outputs": [],
   "source": [
    "#drop the rows with no size i.e. with 0 value \n",
    "data = data[data['size']>0]"
   ]
  },
  {
   "cell_type": "code",
   "execution_count": 180,
   "id": "d5a2883a-39aa-4c9b-99fb-9a8a182f7b61",
   "metadata": {},
   "outputs": [
    {
     "data": {
      "text/plain": [
       "<AxesSubplot:>"
      ]
     },
     "execution_count": 180,
     "metadata": {},
     "output_type": "execute_result"
    },
    {
     "data": {
      "image/png": "[encoded data removed]",
      "text/plain": [
       "<Figure size 432x288 with 1 Axes>"
      ]
     },
     "metadata": {
      "needs_background": "light"
     },
     "output_type": "display_data"
    }
   ],
   "source": [
    "sns.boxplot(data=data['size'])"
   ]
  },
  {
   "cell_type": "code",
   "execution_count": 183,
   "id": "4d322fdb-61bc-45ed-a5b9-f734f756739b",
   "metadata": {},
   "outputs": [],
   "source": [
    "data = data[data['size']<40000]"
   ]
  },
  {
   "cell_type": "markdown",
   "id": "e340da5d-de76-4075-a8a0-f5903ff858ec",
   "metadata": {},
   "source": [
    "## Furnished"
   ]
  },
  {
   "cell_type": "code",
   "execution_count": 184,
   "id": "f86819fa-7664-4897-a94d-a1c58fac2b89",
   "metadata": {},
   "outputs": [
    {
     "data": {
      "text/plain": [
       "No     2699\n",
       "Yes     657\n",
       "Name: furnished, dtype: int64"
      ]
     },
     "execution_count": 184,
     "metadata": {},
     "output_type": "execute_result"
    }
   ],
   "source": [
    "data.furnished.value_counts()"
   ]
  },
  {
   "cell_type": "code",
   "execution_count": 185,
   "id": "90217a42-fa60-4964-baaf-7488409c25f1",
   "metadata": {},
   "outputs": [],
   "source": [
    "data['furnished'] = data.furnished.apply(lambda x: 1 if x==\"Yes\" else 0)"
   ]
  },
  {
   "cell_type": "code",
   "execution_count": 186,
   "id": "7c85d964-147e-4ea8-a328-914c9eb70cf9",
   "metadata": {},
   "outputs": [
    {
     "data": {
      "text/plain": [
       "<AxesSubplot:xlabel='furnished', ylabel='Count'>"
      ]
     },
     "execution_count": 186,
     "metadata": {},
     "output_type": "execute_result"
    },
    {
     "data": {
      "image/png": "[encoded data removed]",
      "text/plain": [
       "<Figure size 432x288 with 1 Axes>"
      ]
     },
     "metadata": {
      "needs_background": "light"
     },
     "output_type": "display_data"
    }
   ],
   "source": [
    "sns.histplot(data.furnished)"
   ]
  },
  {
   "cell_type": "code",
   "execution_count": 188,
   "id": "e7e36773-fc2e-4c4f-b514-5b6c1bc0d55e",
   "metadata": {},
   "outputs": [],
   "source": [
    "data['laundry_in_unit'] = data.appliances.apply(lambda x: 1 if \"Laundry (In Unit)\" in x else 0)\n",
    "data['laundry_in_building'] = data.appliances.apply(lambda x: 1 if \"Laundry (In Building)\" in x else 0)\n",
    "data['dishwasher'] =data.appliances.apply(lambda x: 1 if \"Dishwasher\" in x else 0)\n",
    "data['fridge'] =data.appliances.apply(lambda x: 1 if \"Fridge\" in x else 0)"
   ]
  },
  {
   "cell_type": "code",
   "execution_count": 189,
   "id": "cfcb312f-ff87-41f1-88ec-e61f46a0c048",
   "metadata": {},
   "outputs": [
    {
     "data": {
      "text/plain": [
       "<AxesSubplot:xlabel='laundry_in_unit', ylabel='Count'>"
      ]
     },
     "execution_count": 189,
     "metadata": {},
     "output_type": "execute_result"
    },
    {
     "data": {
      "image/png": "[encoded data removed]",
      "text/plain": [
       "<Figure size 432x288 with 1 Axes>"
      ]
     },
     "metadata": {
      "needs_background": "light"
     },
     "output_type": "display_data"
    }
   ],
   "source": [
    "sns.histplot(data.laundry_in_unit)"
   ]
  },
  {
   "cell_type": "code",
   "execution_count": 190,
   "id": "65953441-e394-4282-aa7d-44897fdf9011",
   "metadata": {},
   "outputs": [
    {
     "data": {
      "text/plain": [
       "<AxesSubplot:xlabel='laundry_in_building', ylabel='Count'>"
      ]
     },
     "execution_count": 190,
     "metadata": {},
     "output_type": "execute_result"
    },
    {
     "data": {
      "image/png": "[encoded data removed]",
      "text/plain": [
       "<Figure size 432x288 with 1 Axes>"
      ]
     },
     "metadata": {
      "needs_background": "light"
     },
     "output_type": "display_data"
    }
   ],
   "source": [
    "sns.histplot(data.laundry_in_building)"
   ]
  },
  {
   "cell_type": "code",
   "execution_count": 191,
   "id": "b2ab9cb1-d810-4cad-90df-d73c0a09114c",
   "metadata": {},
   "outputs": [
    {
     "data": {
      "text/plain": [
       "<AxesSubplot:xlabel='dishwasher', ylabel='Count'>"
      ]
     },
     "execution_count": 191,
     "metadata": {},
     "output_type": "execute_result"
    },
    {
     "data": {
      "image/png": "[encoded data removed]",
      "text/plain": [
       "<Figure size 432x288 with 1 Axes>"
      ]
     },
     "metadata": {
      "needs_background": "light"
     },
     "output_type": "display_data"
    }
   ],
   "source": [
    "sns.histplot(data.dishwasher)"
   ]
  },
  {
   "cell_type": "code",
   "execution_count": 192,
   "id": "3b298048-8402-4db4-ac2e-fb1281c747de",
   "metadata": {},
   "outputs": [
    {
     "data": {
      "text/plain": [
       "<AxesSubplot:xlabel='fridge', ylabel='Count'>"
      ]
     },
     "execution_count": 192,
     "metadata": {},
     "output_type": "execute_result"
    },
    {
     "data": {
      "image/png": "[encoded data removed]",
      "text/plain": [
       "<Figure size 432x288 with 1 Axes>"
      ]
     },
     "metadata": {
      "needs_background": "light"
     },
     "output_type": "display_data"
    }
   ],
   "source": [
    "sns.histplot(data.fridge)"
   ]
  },
  {
   "cell_type": "markdown",
   "id": "c2b406bb-bb14-47d6-9e58-aab1689fad74",
   "metadata": {},
   "source": [
    "## Air Conditioning"
   ]
  },
  {
   "cell_type": "code",
   "execution_count": 193,
   "id": "2c7da8be-478e-4611-9796-15e76d56974a",
   "metadata": {},
   "outputs": [
    {
     "data": {
      "text/plain": [
       "No               1948\n",
       "Yes              1383\n",
       "Not Available       3\n",
       "Name: air-conditioning, dtype: int64"
      ]
     },
     "execution_count": 193,
     "metadata": {},
     "output_type": "execute_result"
    }
   ],
   "source": [
    "data['air-conditioning'].value_counts()"
   ]
  },
  {
   "cell_type": "code",
   "execution_count": 194,
   "id": "f74f336b-8f20-482d-9002-71cefb93af24",
   "metadata": {},
   "outputs": [],
   "source": [
    "data['air-conditioning'] = data['air-conditioning'].apply(lambda x: 1 if x==\"Yes\" else 0 )"
   ]
  },
  {
   "cell_type": "code",
   "execution_count": 195,
   "id": "7aadc560-2976-4ccd-bf64-a21640baafe4",
   "metadata": {},
   "outputs": [
    {
     "data": {
      "text/plain": [
       "<AxesSubplot:xlabel='air-conditioning', ylabel='Count'>"
      ]
     },
     "execution_count": 195,
     "metadata": {},
     "output_type": "execute_result"
    },
    {
     "data": {
      "image/png": "[encoded data removed]",
      "text/plain": [
       "<Figure size 432x288 with 1 Axes>"
      ]
     },
     "metadata": {
      "needs_background": "light"
     },
     "output_type": "display_data"
    }
   ],
   "source": [
    "sns.histplot(data['air-conditioning'])"
   ]
  },
  {
   "cell_type": "code",
   "execution_count": 198,
   "id": "65a92caa-054e-4371-82c1-8c301003fdc0",
   "metadata": {},
   "outputs": [],
   "source": [
    "data['person-outdoor-space'].value_counts()\n",
    "data['balcony'] = data['person-outdoor-space'].apply(lambda x: 1 if \"Balcony\" in x else 0)\n",
    "data['yard'] = data['person-outdoor-space'].apply(lambda x: 1 if \"Yard\" in x else 0)\n",
    "data.drop(['person-outdoor-space'], axis=1, inplace=True)"
   ]
  },
  {
   "cell_type": "code",
   "execution_count": 199,
   "id": "8a786b14-2877-4de3-b54f-997bb36140bc",
   "metadata": {},
   "outputs": [
    {
     "data": {
      "text/plain": [
       "<AxesSubplot:xlabel='balcony', ylabel='Count'>"
      ]
     },
     "execution_count": 199,
     "metadata": {},
     "output_type": "execute_result"
    },
    {
     "data": {
      "image/png": "[encoded data removed]",
      "text/plain": [
       "<Figure size 432x288 with 1 Axes>"
      ]
     },
     "metadata": {
      "needs_background": "light"
     },
     "output_type": "display_data"
    }
   ],
   "source": [
    "sns.histplot(data.balcony)"
   ]
  },
  {
   "cell_type": "code",
   "execution_count": 200,
   "id": "b0979bf4-59ac-40f3-957a-ac5dd47c421e",
   "metadata": {},
   "outputs": [
    {
     "data": {
      "text/plain": [
       "<AxesSubplot:xlabel='yard', ylabel='Count'>"
      ]
     },
     "execution_count": 200,
     "metadata": {},
     "output_type": "execute_result"
    },
    {
     "data": {
      "image/png": "[encoded data removed]",
      "text/plain": [
       "<Figure size 432x288 with 1 Axes>"
      ]
     },
     "metadata": {
      "needs_background": "light"
     },
     "output_type": "display_data"
    }
   ],
   "source": [
    "sns.histplot(data.yard)"
   ]
  },
  {
   "cell_type": "markdown",
   "id": "4f994514-5bb0-4f0e-b360-96ce9deb8a32",
   "metadata": {},
   "source": [
    "## Smoking"
   ]
  },
  {
   "cell_type": "code",
   "execution_count": 201,
   "id": "aeaa627a-cdd9-463f-83f8-21d3729bddc1",
   "metadata": {},
   "outputs": [
    {
     "data": {
      "text/plain": [
       "No               2010\n",
       "Outdoors only    1141\n",
       "Yes               181\n",
       "Not Available       2\n",
       "Name: smoking, dtype: int64"
      ]
     },
     "execution_count": 201,
     "metadata": {},
     "output_type": "execute_result"
    }
   ],
   "source": [
    "data.smoking.value_counts()"
   ]
  },
  {
   "cell_type": "code",
   "execution_count": 117,
   "id": "04bffcdb-c247-42b7-a51f-d23d3e127b67",
   "metadata": {},
   "outputs": [
    {
     "data": {
      "text/plain": [
       "web-scraper-order                                         1655189645-6684\n",
       "product-link                                      1 Bedroom Apt.  (2 1/2)\n",
       "product-link-href       https://www.kijiji.ca/v-appartement-condo/vill...\n",
       "Images                                                                4.0\n",
       "title                                             1 Bedroom Apt.  (2 1/2)\n",
       "location                               5220 Queen Mary Road, Montreal, QC\n",
       "type                                                            Apartment\n",
       "bedrooms                                                              1.0\n",
       "bathrooms                                                             1.0\n",
       "price                                                               $900 \n",
       "utilities                                                  HydroHeatWater\n",
       "wifi                                                         Not Included\n",
       "parking                                                                 0\n",
       "agreement-type                                                     1 Year\n",
       "move-in-date                                                    12-Jun-22\n",
       "pet-friendly                                                          NaN\n",
       "size                                                                  350\n",
       "furnished                                                              No\n",
       "appliances                                AppliancesLaundry (In Building)\n",
       "air-conditioning                                                       No\n",
       "person-outdoor-space                        Personal Outdoor SpaceBalcony\n",
       "smoking                                                     Outdoors only\n",
       "Posted-by                                                     Kijiji User\n",
       "Posted-on                                                       a day ago\n",
       "hydro                   <svg aria-label=\"Yes: Hydro\" class=\"icon-45982...\n",
       "Heat                    <svg aria-label=\"Yes: Heat\" class=\"icon-459822...\n",
       "water                   <svg aria-label=\"Yes: Water\" class=\"icon-45982...\n",
       "amenities                                           AmenitiesNot Included\n",
       "Name: 1, dtype: object"
      ]
     },
     "execution_count": 117,
     "metadata": {},
     "output_type": "execute_result"
    }
   ],
   "source": [
    "data.iloc[1,:]"
   ]
  },
  {
   "cell_type": "code",
   "execution_count": null,
   "id": "eee58f41-6abf-489c-a10f-5d6723c6a00b",
   "metadata": {},
   "outputs": [],
   "source": []
  }
 ],
 "metadata": {
  "kernelspec": {
   "display_name": "Python 3 (ipykernel)",
   "language": "python",
   "name": "python3"
  },
  "language_info": {
   "codemirror_mode": {
    "name": "ipython",
    "version": 3
   },
   "file_extension": ".py",
   "mimetype": "text/x-python",
   "name": "python",
   "nbconvert_exporter": "python",
   "pygments_lexer": "ipython3",
   "version": "3.8.8"
  }
 },
 "nbformat": 4,
 "nbformat_minor": 5
}
